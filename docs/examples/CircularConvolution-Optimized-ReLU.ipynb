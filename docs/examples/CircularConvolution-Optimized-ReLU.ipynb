{
 "cells": [
  {
   "cell_type": "code",
   "execution_count": 1,
   "metadata": {},
   "outputs": [
    {
     "name": "stderr",
     "output_type": "stream",
     "text": [
      "/home/clvcooke/nengo_deep/lib/python3.4/site-packages/nengo_dl/__init__.py:18: UserWarning: No GPU support detected. It is recommended that you install tensorflow-gpu (`pip install tensorflow-gpu`).\n",
      "  warnings.warn(\"No GPU support detected. It is recommended that you \"\n"
     ]
    },
    {
     "data": {
      "application/javascript": [
       "\n",
       "    define('nengo', [\"jupyter-js-widgets\"], function(widgets) {\n",
       "        \n",
       "      var NengoProgressBar = widgets.DOMWidgetView.extend({\n",
       "        render: function() {\n",
       "          // Work-around for messed up CSS in IPython 4\n",
       "          $('.widget-subarea').css({flex: '2 1 0%'});\n",
       "          // $el is the DOM of the widget\n",
       "          this.$el.css({width: '100%', marginBottom: '0.5em'});\n",
       "          this.$el.html([\n",
       "            '<div style=\"',\n",
       "                'width: 100%;',\n",
       "                'border: 1px solid #cfcfcf;',\n",
       "                'border-radius: 4px;',\n",
       "                'text-align: center;',\n",
       "                'position: relative;\">',\n",
       "              '<div class=\"pb-text\" style=\"',\n",
       "                  'position: absolute;',\n",
       "                  'width: 100%;\">',\n",
       "                '0%',\n",
       "              '</div>',\n",
       "              '<div class=\"pb-bar\" style=\"',\n",
       "                  'background-color: #bdd2e6;',\n",
       "                  'width: 0%;',\n",
       "                  'transition: width 0.1s linear;\">',\n",
       "                '&nbsp;',\n",
       "              '</div>',\n",
       "            '</div>'].join(''));\n",
       "        },\n",
       "\n",
       "        update: function() {\n",
       "          this.$el.css({width: '100%', marginBottom: '0.5em'});\n",
       "          var progress = 100 * this.model.get('progress');\n",
       "          var text = this.model.get('text');\n",
       "          this.$el.find('div.pb-bar').width(progress.toString() + '%');\n",
       "          this.$el.find('div.pb-text').html(text);\n",
       "        },\n",
       "      });\n",
       "    \n",
       "\n",
       "      return {\n",
       "        NengoProgressBar: NengoProgressBar\n",
       "      };\n",
       "    });"
      ],
      "text/plain": [
       "<IPython.core.display.Javascript object>"
      ]
     },
     "metadata": {},
     "output_type": "display_data"
    }
   ],
   "source": [
    "%matplotlib inline\n",
    "\n",
    "import numpy as np\n",
    "import matplotlib.pyplot as plt\n",
    "\n",
    "import nengo\n",
    "import nengo_dl\n",
    "%load_ext nengo.ipynb\n",
    "from nengo.spa import Vocabulary\n",
    "\n",
    "# Change the seed of this RNG to change the vocabulary\n",
    "import random\n",
    "import string\n",
    "import sys\n",
    "from io import StringIO\n",
    "import pickle\n",
    "import tensorflow as tf\n",
    "\n",
    "LOADING = False"
   ]
  },
  {
   "cell_type": "code",
   "execution_count": 2,
   "metadata": {
    "collapsed": true
   },
   "outputs": [],
   "source": [
    "def gen_pointers(amount, vocabulary):\n",
    "    pairs = []\n",
    "    for v in range(amount):\n",
    "        # generate amount pairs\n",
    "        # keys start with A, second element starts with B, third starts with C\n",
    "        conv_key = 'C' + str(v)\n",
    "        point_key_1= 'A' + str(v)\n",
    "        pointer_1 = vocabulary.create_pointer(attempts=500)\n",
    "        point_key_2 = 'B' + str(v)\n",
    "        pointer_2 = vocabulary.create_pointer(attempts=500)\n",
    "        vocabulary.add(point_key_1, pointer_1)\n",
    "        vocabulary.add(point_key_2, pointer_2)\n",
    "        vocabulary.add(conv_key, vocabulary.parse(point_key_2 + \"*\" + point_key_1))"
   ]
  },
  {
   "cell_type": "code",
   "execution_count": 3,
   "metadata": {
    "collapsed": true
   },
   "outputs": [],
   "source": [
    "def repeat_pointer(pointer, steps):\n",
    "    return np.repeat(np.expand_dims(pointer, axis=0), steps, axis=0)\n",
    "\n",
    "def generate_data(dims, seed, amount, steps):\n",
    "    state = np.random.RandomState(seed)\n",
    "    vocabulary = Vocabulary(dimensions=dims, rng=state)\n",
    "    gen_pointers(amount, vocabulary)\n",
    "    A = np.asarray([repeat_pointer(vocabulary['A' + str(i)].v,steps) for i in range(amount)])\n",
    "    B = np.asarray([repeat_pointer(vocabulary['B' + str(i)].v,n_steps) for i in range(amount)])\n",
    "    C = np.asarray([repeat_pointer(vocabulary['C' + str(i)].v,n_steps) for i in range(amount)])\n",
    "    return A, B, C, vocabulary"
   ]
  },
  {
   "cell_type": "code",
   "execution_count": 4,
   "metadata": {},
   "outputs": [
    {
     "name": "stderr",
     "output_type": "stream",
     "text": [
      "/home/clvcooke/nengo_deep/lib/python3.4/site-packages/nengo/spa/vocab.py:114: UserWarning: Could not create a semantic pointer with max_similarity=0.10 (D=50, M=21)\n",
      "  len(self.pointers)))\n",
      "/home/clvcooke/nengo_deep/lib/python3.4/site-packages/nengo/spa/vocab.py:114: UserWarning: Could not create a semantic pointer with max_similarity=0.10 (D=50, M=24)\n",
      "  len(self.pointers)))\n",
      "/home/clvcooke/nengo_deep/lib/python3.4/site-packages/nengo/spa/vocab.py:114: UserWarning: Could not create a semantic pointer with max_similarity=0.10 (D=50, M=27)\n",
      "  len(self.pointers)))\n"
     ]
    }
   ],
   "source": [
    "# Number of dimensions for the Semantic Pointers\n",
    "dimensions = 50\n",
    "n_steps = 300\n",
    "minibatch_size = 10\n",
    "\n",
    "if LOADING:\n",
    "    vocab = pickle.load(open('vocab2.p', 'rb'))\n",
    "else:\n",
    "    test_a, test_b, test_c, vocab = generate_data(dimensions, 0, minibatch_size, n_steps)\n",
    "    pickle.dump(vocab, open('vocab2.p', 'wb'))"
   ]
  },
  {
   "cell_type": "code",
   "execution_count": 5,
   "metadata": {},
   "outputs": [],
   "source": [
    "model = nengo.Network()\n",
    "with model:\n",
    "    model.config[nengo.Ensemble].neuron_type = nengo.RectifiedLinear()\n",
    "    model.config[nengo.Ensemble].gain = nengo.dists.Choice([1])\n",
    "    model.config[nengo.Ensemble].bias = nengo.dists.Uniform(-1, 1)\n",
    "#     model.config[nengo.Connection].synapse = None\n",
    "    # Get the raw vectors for the pointers using `vocab['A'].v`\n",
    "    a = nengo.Node(output=vocab['A0'].v)\n",
    "    b = nengo.Node(output=vocab['B0'].v)\n",
    "\n",
    "    # Make the circular convolution network with 200 neurons\n",
    "    cconv = nengo.networks.CircularConvolution(5, dimensions=dimensions)\n",
    "\n",
    "    # Connect the input nodes to the input slots `A` and `B` on the network\n",
    "    nengo.Connection(a, cconv.input_a)\n",
    "    nengo.Connection(b, cconv.input_b)\n",
    "\n",
    "    # Probe the output\n",
    "    out = nengo.Probe(cconv.output, synapse=0.03)"
   ]
  },
  {
   "cell_type": "code",
   "execution_count": 6,
   "metadata": {
    "scrolled": true
   },
   "outputs": [
    {
     "name": "stderr",
     "output_type": "stream",
     "text": [
      "Widget Javascript not detected.  It may not be installed or enabled properly.\n"
     ]
    },
    {
     "data": {
      "application/vnd.jupyter.widget-view+json": {
       "model_id": "78a6e5a14b914a33970618077fc8cffd"
      }
     },
     "metadata": {},
     "output_type": "display_data"
    },
    {
     "name": "stderr",
     "output_type": "stream",
     "text": [
      "Widget Javascript not detected.  It may not be installed or enabled properly.\n"
     ]
    },
    {
     "data": {
      "application/vnd.jupyter.widget-view+json": {
       "model_id": "49bb5c4579f64ce7b156e228f02b2898"
      }
     },
     "metadata": {},
     "output_type": "display_data"
    }
   ],
   "source": [
    "with nengo.Simulator(model) as sim:\n",
    "    sim.run(0.3)"
   ]
  },
  {
   "cell_type": "code",
   "execution_count": 7,
   "metadata": {
    "scrolled": true
   },
   "outputs": [
    {
     "data": {
      "text/plain": [
       "<matplotlib.text.Text at 0x7effde7d2b00>"
      ]
     },
     "execution_count": 7,
     "metadata": {},
     "output_type": "execute_result"
    },
    {
     "data": {
      "image/png": "[encoded data removed]",
      "text/plain": [
       "<matplotlib.figure.Figure at 0x7effde6ba710>"
      ]
     },
     "metadata": {},
     "output_type": "display_data"
    }
   ],
   "source": [
    "plt.figure()\n",
    "plt.plot(sim.trange(), nengo.spa.similarity(sim.data[out], vocab))\n",
    "plt.legend(vocab.keys, loc=4)\n",
    "plt.xlabel(\"t [s]\")\n",
    "plt.ylabel(\"dot product\")"
   ]
  },
  {
   "cell_type": "code",
   "execution_count": 8,
   "metadata": {},
   "outputs": [
    {
     "data": {
      "text/plain": [
       "8979"
      ]
     },
     "execution_count": 8,
     "metadata": {},
     "output_type": "execute_result"
    }
   ],
   "source": [
    "np.argmax(nengo.spa.similarity(sim.data[out], vocab))"
   ]
  },
  {
   "cell_type": "code",
   "execution_count": 9,
   "metadata": {},
   "outputs": [
    {
     "name": "stdout",
     "output_type": "stream",
     "text": [
      "Building completed in 0:00:01 \n",
      "Optimization completed in 0:00:00 \n",
      "Construction completed in 0:00:00 \n",
      "LOSS: 0.744418919086\n",
      "ROUND: 0\n"
     ]
    },
    {
     "name": "stderr",
     "output_type": "stream",
     "text": [
      "/home/clvcooke/nengo_deep/lib/python3.4/site-packages/nengo/spa/vocab.py:114: UserWarning: Could not create a semantic pointer with max_similarity=0.10 (D=50, M=21)\n",
      "  len(self.pointers)))\n",
      "/home/clvcooke/nengo_deep/lib/python3.4/site-packages/nengo/spa/vocab.py:114: UserWarning: Could not create a semantic pointer with max_similarity=0.10 (D=50, M=24)\n",
      "  len(self.pointers)))\n",
      "/home/clvcooke/nengo_deep/lib/python3.4/site-packages/nengo/spa/vocab.py:114: UserWarning: Could not create a semantic pointer with max_similarity=0.10 (D=50, M=27)\n",
      "  len(self.pointers)))\n"
     ]
    },
    {
     "name": "stdout",
     "output_type": "stream",
     "text": [
      "[##############################] ETA: 0:00:00 (Training)\n",
      "Training completed in 0:00:06\n",
      "LOSS: 0.740902125835\n",
      "ROUND: 1\n",
      "[##############################] ETA: 0:00:00 (Training)\n",
      "Training completed in 0:00:06\n",
      "LOSS: 0.739976346493\n",
      "ROUND: 2\n",
      "[##############################] ETA: 0:00:00 (Training)\n",
      "Training completed in 0:00:06\n",
      "LOSS: 0.737715423107\n",
      "ROUND: 3\n",
      "[##############################] ETA: 0:00:00 (Training)\n",
      "Training completed in 0:00:06\n",
      "LOSS: 0.735504209995\n",
      "ROUND: 4\n",
      "[                              ] ETA: unknown"
     ]
    },
    {
     "name": "stderr",
     "output_type": "stream",
     "text": [
      "/home/clvcooke/nengo_deep/lib/python3.4/site-packages/nengo/spa/vocab.py:114: UserWarning: Could not create a semantic pointer with max_similarity=0.10 (D=50, M=18)\n",
      "  len(self.pointers)))\n"
     ]
    },
    {
     "name": "stdout",
     "output_type": "stream",
     "text": [
      "[##############################] ETA: 0:00:00 (Training)\n",
      "Training completed in 0:00:06\n",
      "LOSS: 0.734317481518\n",
      "ROUND: 5\n",
      "[##############################] ETA: 0:00:00 (Training)\n",
      "Training completed in 0:00:06\n",
      "LOSS: 0.733834445477\n",
      "ROUND: 6\n",
      "[##############################] ETA: 0:00:00 (Training)\n",
      "Training completed in 0:00:06\n",
      "LOSS: 0.731977880001\n",
      "ROUND: 7\n",
      "[##############################] ETA: 0:00:00 (Training)\n",
      "Training completed in 0:00:06\n",
      "LOSS: 0.731439292431\n",
      "ROUND: 8\n",
      "[##############################] ETA: 0:00:00 (Training)\n",
      "Training completed in 0:00:06\n",
      "LOSS: 0.72769677639\n",
      "ROUND: 9\n",
      "[##############################] ETA: 0:00:00 (Training)\n",
      "Training completed in 0:00:06\n",
      "LOSS: 0.724746763706\n",
      "ROUND: 10\n",
      "[##############################] ETA: 0:00:00 (Training)\n",
      "Training completed in 0:00:06\n",
      "LOSS: 0.723690271378\n",
      "ROUND: 11\n",
      "[                              ] ETA: unknown"
     ]
    },
    {
     "name": "stderr",
     "output_type": "stream",
     "text": [
      "/home/clvcooke/nengo_deep/lib/python3.4/site-packages/nengo/spa/vocab.py:114: UserWarning: Could not create a semantic pointer with max_similarity=0.10 (D=50, M=15)\n",
      "  len(self.pointers)))\n"
     ]
    },
    {
     "name": "stdout",
     "output_type": "stream",
     "text": [
      "[##############################] ETA: 0:00:00 (Training)\n",
      "Training completed in 0:00:06\n",
      "LOSS: 0.723001241684\n",
      "ROUND: 12\n",
      "[##############################] ETA: 0:00:00 (Training)\n",
      "Training completed in 0:00:06\n",
      "LOSS: 0.719401717186\n",
      "ROUND: 13\n",
      "[##############################] ETA: 0:00:00 (Training)\n",
      "Training completed in 0:00:06\n",
      "LOSS: 0.718267917633\n",
      "ROUND: 14\n",
      "[##############################] ETA: 0:00:00 (Training)\n",
      "Training completed in 0:00:06\n",
      "LOSS: 0.714156746864\n",
      "ROUND: 15\n",
      "[##############################] ETA: 0:00:00 (Training)\n",
      "Training completed in 0:00:06\n",
      "LOSS: 0.710472464561\n",
      "ROUND: 16\n",
      "[##############################] ETA: 0:00:00 (Training)\n",
      "Training completed in 0:00:06\n",
      "LOSS: 0.707390606403\n",
      "ROUND: 17\n",
      "[##############################] ETA: 0:00:00 (Training)\n",
      "Training completed in 0:00:06\n",
      "LOSS: 0.704520523548\n",
      "ROUND: 18\n",
      "[##############################] ETA: 0:00:00 (Training)\n",
      "Training completed in 0:00:06\n",
      "LOSS: 0.701220035553\n",
      "ROUND: 19\n",
      "[##############################] ETA: 0:00:00 (Training)\n",
      "Training completed in 0:00:06\n",
      "LOSS: 0.697545409203\n",
      "ROUND: 20\n",
      "[##############################] ETA: 0:00:00 (Training)\n",
      "Training completed in 0:00:06\n",
      "LOSS: 0.695321917534\n",
      "ROUND: 21\n",
      "[##############################] ETA: 0:00:00 (Training)\n",
      "Training completed in 0:00:06\n",
      "LOSS: 0.688242971897\n",
      "ROUND: 22\n",
      "[##############################] ETA: 0:00:00 (Training)\n",
      "Training completed in 0:00:06\n",
      "LOSS: 0.683450341225\n",
      "ROUND: 23\n",
      "[##############################] ETA: 0:00:00 (Training)\n",
      "Training completed in 0:00:06\n",
      "LOSS: 0.678580224514\n",
      "ROUND: 24\n",
      "[##############################] ETA: 0:00:00 (Training)\n",
      "Training completed in 0:00:06\n",
      "LOSS: 0.674785196781\n",
      "ROUND: 25\n",
      "[##############################] ETA: 0:00:00 (Training)\n",
      "Training completed in 0:00:06\n",
      "LOSS: 0.673460483551\n",
      "ROUND: 26\n",
      "[##############################] ETA: 0:00:00 (Training)\n",
      "Training completed in 0:00:06\n",
      "LOSS: 0.670446634293\n",
      "ROUND: 27\n",
      "[##############################] ETA: 0:00:00 (Training)\n",
      "Training completed in 0:00:06\n",
      "LOSS: 0.666317999363\n",
      "ROUND: 28\n",
      "[##############################] ETA: 0:00:00 (Training)\n",
      "Training completed in 0:00:06\n",
      "LOSS: 0.6632193923\n",
      "ROUND: 29\n",
      "[##############################] ETA: 0:00:00 (Training)\n",
      "Training completed in 0:00:06\n",
      "LOSS: 0.657509088516\n",
      "ROUND: 30\n",
      "[##############################] ETA: 0:00:00 (Training)\n",
      "Training completed in 0:00:06\n",
      "LOSS: 0.655910074711\n",
      "ROUND: 31\n",
      "[##############################] ETA: 0:00:00 (Training)\n",
      "Training completed in 0:00:06\n",
      "LOSS: 0.652001976967\n",
      "ROUND: 32\n",
      "[##############################] ETA: 0:00:00 (Training)\n",
      "Training completed in 0:00:06\n",
      "LOSS: 0.649246513844\n",
      "ROUND: 33\n",
      "[##############################] ETA: 0:00:00 (Training)\n",
      "Training completed in 0:00:06\n",
      "LOSS: 0.646184444427\n",
      "ROUND: 34\n",
      "[##############################] ETA: 0:00:00 (Training)\n",
      "Training completed in 0:00:06\n",
      "LOSS: 0.639837741852\n",
      "ROUND: 35\n",
      "[##############################] ETA: 0:00:00 (Training)\n",
      "Training completed in 0:00:06\n",
      "LOSS: 0.632184803486\n",
      "ROUND: 36\n",
      "[##############################] ETA: 0:00:00 (Training)\n",
      "Training completed in 0:00:06\n",
      "LOSS: 0.628326892853\n",
      "ROUND: 37\n",
      "[##############################] ETA: 0:00:00 (Training)\n",
      "Training completed in 0:00:06\n",
      "LOSS: 0.625571429729\n",
      "ROUND: 38\n",
      "[##############################] ETA: 0:00:00 (Training)\n",
      "Training completed in 0:00:06\n",
      "LOSS: 0.622240424156\n",
      "ROUND: 39\n",
      "[##############################] ETA: 0:00:00 (Training)\n",
      "Training completed in 0:00:06\n",
      "LOSS: 0.618381738663\n",
      "ROUND: 40\n",
      "[##############################] ETA: 0:00:00 (Training)\n",
      "Training completed in 0:00:06\n",
      "LOSS: 0.61597263813\n",
      "ROUND: 41\n",
      "[##############################] ETA: 0:00:00 (Training)\n",
      "Training completed in 0:00:06\n",
      "LOSS: 0.610396146774\n",
      "ROUND: 42\n",
      "[##############################] ETA: 0:00:00 (Training)\n",
      "Training completed in 0:00:06\n",
      "LOSS: 0.60650485754\n",
      "ROUND: 43\n",
      "[##############################] ETA: 0:00:00 (Training)\n",
      "Training completed in 0:00:06\n",
      "LOSS: 0.600891053677\n",
      "ROUND: 44\n",
      "[##############################] ETA: 0:00:00 (Training)\n",
      "Training completed in 0:00:06\n",
      "LOSS: 0.597142398357\n",
      "ROUND: 45\n",
      "[##############################] ETA: 0:00:00 (Training)\n",
      "Training completed in 0:00:06\n",
      "LOSS: 0.592314124107\n",
      "ROUND: 46\n",
      "[##############################] ETA: 0:00:00 (Training)\n",
      "Training completed in 0:00:06\n",
      "LOSS: 0.586653649807\n",
      "ROUND: 47\n",
      "[##############################] ETA: 0:00:00 (Training)\n",
      "Training completed in 0:00:06\n",
      "LOSS: 0.581673443317\n",
      "ROUND: 48\n",
      "[##############################] ETA: 0:00:00 (Training)\n",
      "Training completed in 0:00:06\n",
      "LOSS: 0.577818572521\n",
      "ROUND: 49\n",
      "[##############################] ETA: 0:00:00 (Training)\n",
      "Training completed in 0:00:06\n",
      "LOSS: 0.574231863022\n",
      "ROUND: 50\n",
      "[##############################] ETA: 0:00:00 (Training)\n",
      "Training completed in 0:00:06\n",
      "LOSS: 0.57026976347\n",
      "ROUND: 51\n",
      "[##############################] ETA: 0:00:00 (Training)\n",
      "Training completed in 0:00:06\n",
      "LOSS: 0.564154684544\n",
      "ROUND: 52\n",
      "[##############################] ETA: 0:00:00 (Training)\n",
      "Training completed in 0:00:06\n",
      "LOSS: 0.560250461102\n",
      "ROUND: 53\n",
      "[##############################] ETA: 0:00:00 (Training)\n",
      "Training completed in 0:00:06\n",
      "LOSS: 0.55764323473\n",
      "ROUND: 54\n",
      "[##############################] ETA: 0:00:00 (Training)\n",
      "Training completed in 0:00:06\n",
      "LOSS: 0.557145178318\n",
      "ROUND: 55\n",
      "[##############################] ETA: 0:00:00 (Training)\n",
      "Training completed in 0:00:06\n",
      "LOSS: 0.551467835903\n",
      "ROUND: 56\n",
      "[##############################] ETA: 0:00:00 (Training)\n",
      "Training completed in 0:00:06\n",
      "LOSS: 0.544664263725\n",
      "ROUND: 57\n",
      "[##############################] ETA: 0:00:00 (Training)\n",
      "Training completed in 0:00:06\n",
      "LOSS: 0.540253520012\n",
      "ROUND: 58\n",
      "[##############################] ETA: 0:00:00 (Training)\n",
      "Training completed in 0:00:05\n",
      "LOSS: 0.5315990448\n",
      "ROUND: 59\n",
      "[##############################] ETA: 0:00:00 (Training)\n",
      "Training completed in 0:00:05\n",
      "LOSS: 0.525218009949\n",
      "ROUND: 60\n",
      "[##############################] ETA: 0:00:00 (Training)\n",
      "Training completed in 0:00:05\n",
      "LOSS: 0.51664686203\n",
      "ROUND: 61\n",
      "[##############################] ETA: 0:00:00 (Training)\n",
      "Training completed in 0:00:05\n",
      "LOSS: 0.508138775826\n",
      "ROUND: 62\n",
      "[##############################] ETA: 0:00:00 (Training)\n",
      "Training completed in 0:00:06\n",
      "LOSS: 0.501836121082\n",
      "ROUND: 63\n",
      "[##############################] ETA: 0:00:00 (Training)\n",
      "Training completed in 0:00:06\n",
      "LOSS: 0.493518829346\n",
      "ROUND: 64\n",
      "[##############################] ETA: 0:00:00 (Training)\n",
      "Training completed in 0:00:06\n",
      "LOSS: 0.488829225302\n",
      "ROUND: 65\n",
      "[##############################] ETA: 0:00:00 (Training)\n",
      "Training completed in 0:00:06\n",
      "LOSS: 0.48088362813\n",
      "ROUND: 66\n",
      "[##############################] ETA: 0:00:00 (Training)\n",
      "Training completed in 0:00:06\n",
      "LOSS: 0.473271071911\n",
      "ROUND: 67\n",
      "[##############################] ETA: 0:00:00 (Training)\n",
      "Training completed in 0:00:06\n",
      "LOSS: 0.463264077902\n",
      "ROUND: 68\n",
      "[##############################] ETA: 0:00:00 (Training)\n",
      "Training completed in 0:00:06\n",
      "LOSS: 0.457164257765\n",
      "ROUND: 69\n",
      "[##############################] ETA: 0:00:00 (Training)\n",
      "Training completed in 0:00:06\n",
      "LOSS: 0.446448981762\n",
      "ROUND: 70\n",
      "[##############################] ETA: 0:00:00 (Training)\n",
      "Training completed in 0:00:06\n",
      "LOSS: 0.440125703812\n",
      "ROUND: 71\n",
      "[##############################] ETA: 0:00:00 (Training)\n",
      "Training completed in 0:00:06\n",
      "LOSS: 0.432939291\n",
      "ROUND: 72\n",
      "[##############################] ETA: 0:00:00 (Training)\n",
      "Training completed in 0:00:06\n",
      "LOSS: 0.422025561333\n",
      "ROUND: 73\n",
      "[##############################] ETA: 0:00:00 (Training)\n",
      "Training completed in 0:00:06\n",
      "LOSS: 0.413617521524\n",
      "ROUND: 74\n",
      "[##############################] ETA: 0:00:00 (Training)\n",
      "Training completed in 0:00:06\n",
      "LOSS: 0.401619374752\n",
      "ROUND: 75\n",
      "[##############################] ETA: 0:00:00 (Training)\n",
      "Training completed in 0:00:06\n",
      "LOSS: 0.393421053886\n",
      "ROUND: 76\n",
      "[##############################] ETA: 0:00:00 (Training)\n",
      "Training completed in 0:00:06\n",
      "LOSS: 0.382532507181\n",
      "ROUND: 77\n",
      "[##############################] ETA: 0:00:00 (Training)\n",
      "Training completed in 0:00:06\n",
      "LOSS: 0.373847007751\n",
      "ROUND: 78\n",
      "[##############################] ETA: 0:00:00 (Training)\n",
      "Training completed in 0:00:06\n",
      "LOSS: 0.364645093679\n",
      "ROUND: 79\n",
      "[##############################] ETA: 0:00:00 (Training)\n",
      "Training completed in 0:00:06\n",
      "LOSS: 0.357206225395\n",
      "ROUND: 80\n",
      "[##############################] ETA: 0:00:00 (Training)\n",
      "Training completed in 0:00:06\n"
     ]
    },
    {
     "name": "stdout",
     "output_type": "stream",
     "text": [
      "LOSS: 0.345658779144\n",
      "ROUND: 81\n",
      "[##############################] ETA: 0:00:00 (Training)\n",
      "Training completed in 0:00:06\n",
      "LOSS: 0.330236405134\n",
      "ROUND: 82\n",
      "[##############################] ETA: 0:00:00 (Training)\n",
      "Training completed in 0:00:06\n",
      "LOSS: 0.317672431469\n",
      "ROUND: 83\n",
      "[##############################] ETA: 0:00:00 (Training)\n",
      "Training completed in 0:00:06\n",
      "LOSS: 0.302495509386\n",
      "ROUND: 84\n",
      "[##############################] ETA: 0:00:00 (Training)\n",
      "Training completed in 0:00:06\n",
      "LOSS: 0.287698686123\n",
      "ROUND: 85\n",
      "[##############################] ETA: 0:00:00 (Training)\n",
      "Training completed in 0:00:06\n",
      "LOSS: 0.302183508873\n",
      "ROUND: 86\n",
      "[##############################] ETA: 0:00:00 (Training)\n",
      "Training completed in 0:00:06\n",
      "LOSS: 0.285196214914\n",
      "ROUND: 87\n",
      "[##############################] ETA: 0:00:00 (Training)\n",
      "Training completed in 0:00:06\n",
      "LOSS: 0.273911893368\n",
      "ROUND: 88\n",
      "[##############################] ETA: 0:00:00 (Training)\n",
      "Training completed in 0:00:06\n",
      "LOSS: 0.26433467865\n",
      "ROUND: 89\n",
      "[##############################] ETA: 0:00:00 (Training)\n",
      "Training completed in 0:00:06\n",
      "LOSS: 0.251898020506\n",
      "ROUND: 90\n",
      "[##############################] ETA: 0:00:00 (Training)\n",
      "Training completed in 0:00:06\n",
      "LOSS: 0.234862715006\n",
      "ROUND: 91\n",
      "[##############################] ETA: 0:00:00 (Training)\n",
      "Training completed in 0:00:06\n",
      "LOSS: 0.222357869148\n",
      "ROUND: 92\n",
      "[##############################] ETA: 0:00:00 (Training)\n",
      "Training completed in 0:00:06\n",
      "LOSS: 0.204039871693\n",
      "ROUND: 93\n",
      "[##############################] ETA: 0:00:00 (Training)\n",
      "Training completed in 0:00:06\n",
      "LOSS: 0.19457051158\n",
      "ROUND: 94\n",
      "[##############################] ETA: 0:00:00 (Training)\n",
      "Training completed in 0:00:06\n",
      "LOSS: 0.183945149183\n",
      "ROUND: 95\n",
      "[##############################] ETA: 0:00:00 (Training)\n",
      "Training completed in 0:00:06\n",
      "LOSS: 0.19932474196\n",
      "ROUND: 96\n",
      "[##############################] ETA: 0:00:00 (Training)\n",
      "Training completed in 0:00:06\n",
      "LOSS: 0.18978407979\n",
      "ROUND: 97\n",
      "[##############################] ETA: 0:00:00 (Training)\n",
      "Training completed in 0:00:06\n",
      "LOSS: 0.17387162149\n",
      "ROUND: 98\n",
      "[##############################] ETA: 0:00:00 (Training)\n",
      "Training completed in 0:00:06\n",
      "LOSS: 0.192054405808\n",
      "ROUND: 99\n",
      "[##############################] ETA: 0:00:00 (Training)\n",
      "Training completed in 0:00:06\n",
      "LOSS: 0.218850582838\n",
      "Simulation completed in 0:00:02\n"
     ]
    }
   ],
   "source": [
    "def objective_cosine(outputs, targets):\n",
    "    return tf.abs(tf.losses.cosine_distance(targets, outputs, dim=2))\n",
    "    \n",
    "with nengo_dl.Simulator(model, step_blocks=n_steps, minibatch_size=minibatch_size, device=\"/cpu:0\") as sim:\n",
    "    test_input_feed = {a:test_a,\n",
    "                       b:test_b}\n",
    "    test_output_feed = {out: test_c}    \n",
    "    optimizer = tf.train.RMSPropOptimizer(5e-3, decay=0.9, momentum=0.0, epsilon=1e-10, use_locking=False, centered=False, name='RMSProp')\n",
    "    losses = []\n",
    "    print(\"LOSS: \" + str(sim.loss(test_input_feed, test_output_feed, objective_cosine)))\n",
    "    for e in range(100):\n",
    "        print(\"ROUND: \" + str(e))\n",
    "        train_a, train_b, train_c, _ = generate_data(dimensions, e+1, minibatch_size, n_steps)\n",
    "        input_feed = {a:train_a, \n",
    "                      b: train_b}\n",
    "        output_feed = {out: train_c}\n",
    "        sim.train(input_feed, output_feed, optimizer, n_epochs=1, objective=objective_cosine)\n",
    "        loss = sim.loss(test_input_feed, test_output_feed, objective_cosine)\n",
    "        losses.append(loss)\n",
    "        print(\"LOSS: \" + str(loss))\n",
    "    sim.save_params('circular_convolution-relu')\n",
    "    sim.run(0.3)"
   ]
  },
  {
   "cell_type": "code",
   "execution_count": 10,
   "metadata": {},
   "outputs": [
    {
     "data": {
      "text/plain": [
       "[<matplotlib.lines.Line2D at 0x7effde3a24e0>]"
      ]
     },
     "execution_count": 10,
     "metadata": {},
     "output_type": "execute_result"
    },
    {
     "data": {
      "image/png": "[encoded data removed]",
      "text/plain": [
       "<matplotlib.figure.Figure at 0x7effde5b6e10>"
      ]
     },
     "metadata": {},
     "output_type": "display_data"
    }
   ],
   "source": [
    "plt.figure()\n",
    "plt.plot(losses)\n",
    "plt.xlabel('training round')\n",
    "plt.ylabel('loss')\n",
    "plt.suptitle('Loss vs. Training Round')\n",
    "plt.plot(losses)"
   ]
  },
  {
   "cell_type": "code",
   "execution_count": 11,
   "metadata": {
    "collapsed": true
   },
   "outputs": [],
   "source": [
    "output = sim.data[out]"
   ]
  },
  {
   "cell_type": "code",
   "execution_count": 12,
   "metadata": {},
   "outputs": [
    {
     "data": {
      "image/png": "[encoded data removed]",
      "text/plain": [
       "<matplotlib.figure.Figure at 0x7effacce77b8>"
      ]
     },
     "metadata": {},
     "output_type": "display_data"
    }
   ],
   "source": [
    "plt.figure()\n",
    "plt.plot(sim.trange(), nengo.spa.similarity(output[0], vocab))\n",
    "plt.legend(vocab.keys, loc=4)\n",
    "plt.xlabel(\"t [s]\")\n",
    "plt.ylabel(\"dot product\");"
   ]
  }
 ],
 "metadata": {
  "anaconda-cloud": {},
  "kernelspec": {
   "display_name": "Python 3",
   "language": "python",
   "name": "python3"
  },
  "language_info": {
   "codemirror_mode": {
    "name": "ipython",
    "version": 3
   },
   "file_extension": ".py",
   "mimetype": "text/x-python",
   "name": "python",
   "nbconvert_exporter": "python",
   "pygments_lexer": "ipython3",
   "version": "3.4.2"
  },
  "widgets": {
   "state": {
    "00d932db06e044d1b638a625daec4423": {
     "views": [
      {
       "cell_index": 3
      }
     ]
    },
    "300fdc01ffdb46b4acb7c17342aa993c": {
     "views": [
      {
       "cell_index": 3
      }
     ]
    },
    "6190917cf4b04e27a5305c2f5fcfb785": {
     "views": [
      {
       "cell_index": 3
      }
     ]
    },
    "6c5e006bdd4345cfa378792f0d45bc99": {
     "views": [
      {
       "cell_index": 3
      }
     ]
    },
    "9417fe85e05643458c610e0ab2f6e0db": {
     "views": [
      {
       "cell_index": 3
      }
     ]
    },
    "d700fb8b4c024ee682fb36be676a2019": {
     "views": [
      {
       "cell_index": 3
      }
     ]
    }
   },
   "version": "1.2.0"
  }
 },
 "nbformat": 4,
 "nbformat_minor": 1
}
