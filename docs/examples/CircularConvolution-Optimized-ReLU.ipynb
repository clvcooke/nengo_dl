{
 "cells": [
  {
   "cell_type": "code",
   "execution_count": 1,
   "metadata": {},
   "outputs": [
    {
     "name": "stderr",
     "output_type": "stream",
     "text": [
      "/home/clvcooke/nengo_deep/lib/python3.4/site-packages/nengo_dl/__init__.py:18: UserWarning: No GPU support detected. It is recommended that you install tensorflow-gpu (`pip install tensorflow-gpu`).\n",
      "  warnings.warn(\"No GPU support detected. It is recommended that you \"\n"
     ]
    },
    {
     "data": {
      "application/javascript": [
       "\n",
       "    define('nengo', [\"jupyter-js-widgets\"], function(widgets) {\n",
       "        \n",
       "      var NengoProgressBar = widgets.DOMWidgetView.extend({\n",
       "        render: function() {\n",
       "          // Work-around for messed up CSS in IPython 4\n",
       "          $('.widget-subarea').css({flex: '2 1 0%'});\n",
       "          // $el is the DOM of the widget\n",
       "          this.$el.css({width: '100%', marginBottom: '0.5em'});\n",
       "          this.$el.html([\n",
       "            '<div style=\"',\n",
       "                'width: 100%;',\n",
       "                'border: 1px solid #cfcfcf;',\n",
       "                'border-radius: 4px;',\n",
       "                'text-align: center;',\n",
       "                'position: relative;\">',\n",
       "              '<div class=\"pb-text\" style=\"',\n",
       "                  'position: absolute;',\n",
       "                  'width: 100%;\">',\n",
       "                '0%',\n",
       "              '</div>',\n",
       "              '<div class=\"pb-bar\" style=\"',\n",
       "                  'background-color: #bdd2e6;',\n",
       "                  'width: 0%;',\n",
       "                  'transition: width 0.1s linear;\">',\n",
       "                '&nbsp;',\n",
       "              '</div>',\n",
       "            '</div>'].join(''));\n",
       "        },\n",
       "\n",
       "        update: function() {\n",
       "          this.$el.css({width: '100%', marginBottom: '0.5em'});\n",
       "          var progress = 100 * this.model.get('progress');\n",
       "          var text = this.model.get('text');\n",
       "          this.$el.find('div.pb-bar').width(progress.toString() + '%');\n",
       "          this.$el.find('div.pb-text').html(text);\n",
       "        },\n",
       "      });\n",
       "    \n",
       "\n",
       "      return {\n",
       "        NengoProgressBar: NengoProgressBar\n",
       "      };\n",
       "    });"
      ],
      "text/plain": [
       "<IPython.core.display.Javascript object>"
      ]
     },
     "metadata": {},
     "output_type": "display_data"
    }
   ],
   "source": [
    "%matplotlib inline\n",
    "\n",
    "import numpy as np\n",
    "import matplotlib.pyplot as plt\n",
    "\n",
    "import nengo\n",
    "import nengo_dl\n",
    "%load_ext nengo.ipynb\n",
    "from nengo.spa import Vocabulary\n",
    "\n",
    "# Change the seed of this RNG to change the vocabulary\n",
    "import random\n",
    "import string\n",
    "import sys\n",
    "from io import StringIO\n",
    "import pickle\n",
    "import tensorflow as tf\n",
    "\n",
    "LOADING = False"
   ]
  },
  {
   "cell_type": "code",
   "execution_count": 2,
   "metadata": {
    "collapsed": true
   },
   "outputs": [],
   "source": [
    "def gen_pointers(amount, vocabulary):\n",
    "    pairs = []\n",
    "    for v in range(amount):\n",
    "        # generate amount pairs\n",
    "        # keys start with A, second element starts with B, third starts with C\n",
    "        conv_key = 'C' + str(v)\n",
    "        point_key_1= 'A' + str(v)\n",
    "        pointer_1 = vocabulary.create_pointer(attempts=500)\n",
    "        point_key_2 = 'B' + str(v)\n",
    "        pointer_2 = vocabulary.create_pointer(attempts=500)\n",
    "        vocabulary.add(point_key_1, pointer_1)\n",
    "        vocabulary.add(point_key_2, pointer_2)\n",
    "        vocabulary.add(conv_key, vocabulary.parse(point_key_2 + \"*\" + point_key_1))"
   ]
  },
  {
   "cell_type": "code",
   "execution_count": 3,
   "metadata": {
    "collapsed": true
   },
   "outputs": [],
   "source": [
    "def repeat_pointer(pointer, steps):\n",
    "    return np.repeat(np.expand_dims(pointer, axis=0), steps, axis=0)\n",
    "\n",
    "def generate_data(dims, seed, amount, steps):\n",
    "    state = np.random.RandomState(seed)\n",
    "    vocabulary = Vocabulary(dimensions=dims, rng=state)\n",
    "    gen_pointers(amount, vocabulary)\n",
    "    A = np.asarray([repeat_pointer(vocabulary['A' + str(i)].v,steps) for i in range(amount)])\n",
    "    B = np.asarray([repeat_pointer(vocabulary['B' + str(i)].v,n_steps) for i in range(amount)])\n",
    "    C = np.asarray([repeat_pointer(vocabulary['C' + str(i)].v,n_steps) for i in range(amount)])\n",
    "    return A, B, C, vocabulary"
   ]
  },
  {
   "cell_type": "code",
   "execution_count": 4,
   "metadata": {
    "collapsed": true
   },
   "outputs": [],
   "source": [
    "# Number of dimensions for the Semantic Pointers\n",
    "dimensions = 50\n",
    "n_steps = 300\n",
    "minibatch_size = 5\n",
    "\n",
    "if LOADING:\n",
    "    vocab = pickle.load(open('vocab2.p', 'rb'))\n",
    "else:\n",
    "    test_a, test_b, test_c, vocab = generate_data(dimensions, 0, minibatch_size, n_steps)\n",
    "    pickle.dump(vocab, open('vocab2.p', 'wb'))"
   ]
  },
  {
   "cell_type": "code",
   "execution_count": 5,
   "metadata": {
    "collapsed": true
   },
   "outputs": [],
   "source": [
    "model = nengo.Network()\n",
    "with model:\n",
    "    model.config[nengo.Ensemble].neuron_type = nengo.RectifiedLinear()\n",
    "    model.config[nengo.Ensemble].gain = nengo.dists.Choice([1])\n",
    "    model.config[nengo.Ensemble].bias = nengo.dists.Uniform(-1, 1)\n",
    "#     model.config[nengo.Connection].synapse = None\n",
    "    # Get the raw vectors for the pointers using `vocab['A'].v`\n",
    "    a = nengo.Node(output=vocab['A0'].v)\n",
    "    b = nengo.Node(output=vocab['B0'].v)\n",
    "\n",
    "    # Make the circular convolution network with 200 neurons\n",
    "    cconv = nengo.networks.CircularConvolution(400, dimensions=dimensions)\n",
    "\n",
    "    # Connect the input nodes to the input slots `A` and `B` on the network\n",
    "    nengo.Connection(a, cconv.input_a)\n",
    "    nengo.Connection(b, cconv.input_b)\n",
    "\n",
    "    # Probe the output\n",
    "    out = nengo.Probe(cconv.output, synapse=0.03)"
   ]
  },
  {
   "cell_type": "code",
   "execution_count": 6,
   "metadata": {
    "scrolled": true
   },
   "outputs": [
    {
     "name": "stderr",
     "output_type": "stream",
     "text": [
      "Widget Javascript not detected.  It may not be installed or enabled properly.\n"
     ]
    },
    {
     "data": {
      "application/vnd.jupyter.widget-view+json": {
       "model_id": "f3d5a443305f4e2883bf07015c17083b"
      }
     },
     "metadata": {},
     "output_type": "display_data"
    },
    {
     "name": "stderr",
     "output_type": "stream",
     "text": [
      "Widget Javascript not detected.  It may not be installed or enabled properly.\n"
     ]
    },
    {
     "data": {
      "application/vnd.jupyter.widget-view+json": {
       "model_id": "4077b1b501554aeeb1577485a57c38ed"
      }
     },
     "metadata": {},
     "output_type": "display_data"
    }
   ],
   "source": [
    "with nengo.Simulator(model) as sim:\n",
    "    sim.run(0.3)"
   ]
  },
  {
   "cell_type": "code",
   "execution_count": null,
   "metadata": {
    "scrolled": true
   },
   "outputs": [
    {
     "data": {
      "image/png": "[encoded data removed]",
      "text/plain": [
       "<matplotlib.figure.Figure at 0x7f497eea4cc0>"
      ]
     },
     "metadata": {},
     "output_type": "display_data"
    }
   ],
   "source": [
    "plt.figure()\n",
    "plt.plot(sim.trange(), nengo.spa.similarity(sim.data[out], vocab))\n",
    "plt.legend(vocab.keys, loc=4)\n",
    "plt.xlabel(\"t [s]\")\n",
    "plt.ylabel(\"dot product\");"
   ]
  },
  {
   "cell_type": "code",
   "execution_count": 27,
   "metadata": {},
   "outputs": [
    {
     "name": "stdout",
     "output_type": "stream",
     "text": [
      "Building completed in 0:00:05 \n",
      "Optimization completed in 0:00:00 \n",
      "Construction completed in 0:00:00 \n",
      "LOSS: 0.126335442066\n",
      "[##############################] ETA: 0:00:00 (Training)\n",
      "Training completed in 0:00:35\n",
      "LOSS: 0.131766811013\n",
      "[##############################] ETA: 0:00:00 (Training)\n",
      "Training completed in 0:00:34\n",
      "LOSS: 0.126895844936\n",
      "[##############################] ETA: 0:00:00 (Training)\n",
      "Training completed in 0:00:34\n",
      "LOSS: 0.122006550431\n",
      "[##############################] ETA: 0:00:00 (Training)\n",
      "Training completed in 0:00:34\n",
      "LOSS: 0.117637529969\n",
      "[##############################] ETA: 0:00:00 (Training)\n",
      "Training completed in 0:00:34\n",
      "LOSS: 0.112898923457\n",
      "[##############################] ETA: 0:00:00 (Training)\n",
      "Training completed in 0:00:34\n",
      "LOSS: 0.108471535146\n",
      "[##############################] ETA: 0:00:00 (Training)\n",
      "Training completed in 0:00:34\n",
      "LOSS: 0.10369887203\n",
      "[##############################] ETA: 0:00:00 (Training)\n",
      "Training completed in 0:00:34\n",
      "LOSS: 0.0992260351777\n",
      "[##############################] ETA: 0:00:00 (Training)\n",
      "Training completed in 0:00:34\n",
      "LOSS: 0.104577533901\n",
      "[##############################] ETA: 0:00:00 (Training)\n",
      "Training completed in 0:00:34\n",
      "LOSS: 0.0995486453176\n",
      "[##############################] ETA: 0:00:00 (Training)\n",
      "Training completed in 0:00:34\n",
      "LOSS: 0.0945597141981\n",
      "[##############################] ETA: 0:00:00 (Training)\n",
      "Training completed in 0:00:34\n",
      "LOSS: 0.100035011768\n",
      "[##############################] ETA: 0:00:00 (Training)\n",
      "Training completed in 0:00:34\n",
      "LOSS: 0.105592370033\n",
      "[##############################] ETA: 0:00:00 (Training)\n",
      "Training completed in 0:00:34\n",
      "LOSS: 0.100450105965\n",
      "[##############################] ETA: 0:00:00 (Training)\n",
      "Training completed in 0:00:34\n",
      "LOSS: 0.0954117402434\n",
      "[##############################] ETA: 0:00:00 (Training)\n",
      "Training completed in 0:00:34\n",
      "LOSS: 0.101250253618\n",
      "[##############################] ETA: 0:00:00 (Training)\n",
      "Training completed in 0:00:34\n",
      "LOSS: 0.0960279926658\n",
      "[##############################] ETA: 0:00:00 (Training)\n",
      "Training completed in 0:00:34\n",
      "LOSS: 0.101424202323\n",
      "[##############################] ETA: 0:00:00 (Training)\n",
      "Training completed in 0:00:34\n",
      "LOSS: 0.107043527067\n",
      "[##############################] ETA: 0:00:00 (Training)\n",
      "Training completed in 0:00:34\n",
      "LOSS: 0.102078981698\n",
      "[##############################] ETA: 0:00:00 (Training)\n",
      "Training completed in 0:00:34\n",
      "LOSS: 0.0974169075489\n",
      "[##############################] ETA: 0:00:00 (Training)\n",
      "Training completed in 0:00:34\n",
      "LOSS: 0.0919125676155\n",
      "[##############################] ETA: 0:00:00 (Training)\n",
      "Training completed in 0:00:34\n",
      "LOSS: 0.0868327841163\n",
      "[##############################] ETA: 0:00:00 (Training)\n",
      "Training completed in 0:00:34\n",
      "LOSS: 0.0823779702187\n",
      "[##############################] ETA: 0:00:00 (Training)\n",
      "Training completed in 0:00:34\n",
      "LOSS: 0.0771864801645\n",
      "[##############################] ETA: 0:00:00 (Training)\n",
      "Training completed in 0:00:34\n",
      "LOSS: 0.0829627737403\n",
      "[##############################] ETA: 0:00:00 (Training)\n",
      "Training completed in 0:00:34\n",
      "LOSS: 0.0777581483126\n",
      "[##############################] ETA: 0:00:00 (Training)\n",
      "Training completed in 0:00:34\n",
      "LOSS: 0.0727927535772\n",
      "[##############################] ETA: 0:00:00 (Training)\n",
      "Training completed in 0:00:34\n",
      "LOSS: 0.0783629864454\n",
      "[##############################] ETA: 0:00:00 (Training)\n",
      "Training completed in 0:00:34\n",
      "LOSS: 0.0728181451559\n",
      "[##############################] ETA: 0:00:00 (Training)\n",
      "Training completed in 0:00:34\n",
      "LOSS: 0.0682010874152\n",
      "[##############################] ETA: 0:00:00 (Training)\n",
      "Training completed in 0:00:34\n",
      "LOSS: 0.0629253536463\n",
      "[##############################] ETA: 0:00:00 (Training)\n",
      "Training completed in 0:00:34\n",
      "LOSS: 0.0689558461308\n",
      "[##############################] ETA: 0:00:00 (Training)\n",
      "Training completed in 0:00:34\n",
      "LOSS: 0.0749686658382\n",
      "[##############################] ETA: 0:00:00 (Training)\n",
      "Training completed in 0:00:34\n",
      "LOSS: 0.0696125999093\n",
      "[##############################] ETA: 0:00:00 (Training)\n",
      "Training completed in 0:00:34\n",
      "LOSS: 0.0754615515471\n",
      "[##############################] ETA: 0:00:00 (Training)\n",
      "Training completed in 0:00:34\n",
      "LOSS: 0.0701976567507\n",
      "[##############################] ETA: 0:00:00 (Training)\n",
      "Training completed in 0:00:34\n",
      "LOSS: 0.0648749321699\n",
      "[##############################] ETA: 0:00:00 (Training)\n",
      "Training completed in 0:00:34\n",
      "LOSS: 0.0708341151476\n",
      "[##############################] ETA: 0:00:00 (Training)\n",
      "Training completed in 0:00:34\n",
      "LOSS: 0.0657130926847\n",
      "[##############################] ETA: 0:00:00 (Training)\n",
      "Training completed in 0:00:34\n",
      "LOSS: 0.060619674623\n",
      "[##############################] ETA: 0:00:00 (Training)\n",
      "Training completed in 0:00:34\n",
      "LOSS: 0.0560134239495\n",
      "[##############################] ETA: 0:00:00 (Training)\n",
      "Training completed in 0:00:34\n",
      "LOSS: 0.0505306497216\n",
      "[##############################] ETA: 0:00:00 (Training)\n",
      "Training completed in 0:00:34\n",
      "LOSS: 0.0454157143831\n",
      "[##############################] ETA: 0:00:00 (Training)\n",
      "Training completed in 0:00:34\n",
      "LOSS: 0.040523480624\n",
      "[##############################] ETA: 0:00:00 (Training)\n",
      "Training completed in 0:00:34\n",
      "LOSS: 0.0352902710438\n",
      "[##############################] ETA: 0:00:00 (Training)\n",
      "Training completed in 0:00:34\n",
      "LOSS: 0.0413014627993\n",
      "[##############################] ETA: 0:00:00 (Training)\n",
      "Training completed in 0:00:34\n",
      "LOSS: 0.0358429551125\n",
      "[##############################] ETA: 0:00:00 (Training)\n",
      "Training completed in 0:00:34\n",
      "LOSS: 0.042296551168\n",
      "[##############################] ETA: 0:00:00 (Training)\n",
      "Training completed in 0:00:34\n",
      "LOSS: 0.047949410975\n",
      "Simulation completed in 0:00:06\n"
     ]
    }
   ],
   "source": [
    "def objective_cosine(outputs, targets):\n",
    "    return tf.abs(tf.losses.cosine_distance(targets, outputs, dim=2))\n",
    "    \n",
    "with nengo_dl.Simulator(model, step_blocks=n_steps, minibatch_size=minibatch_size, device=\"/cpu:0\") as sim:\n",
    "    test_input_feed = {a:test_a,\n",
    "                       b:test_b}\n",
    "    test_output_feed = {out: test_c}    \n",
    "    optimizer = tf.train.RMSPropOptimizer(1e-3, decay=0.9, momentum=0.0, epsilon=1e-10, use_locking=False, centered=False, name='RMSProp')\n",
    "    print(\"LOSS: \" + str(sim.loss(test_input_feed, test_output_feed, objective_cosine)))\n",
    "    for e in range(50):\n",
    "        train_a, train_b, train_c, _ = generate_data(dimensions, e+1, minibatch_size, n_steps)\n",
    "        input_feed = {a:train_a, \n",
    "                      b: train_b}\n",
    "        output_feed = {out: train_c}\n",
    "        sim.train(input_feed, output_feed, optimizer, n_epochs=1, objective=objective_cosine)\n",
    "        print(\"LOSS: \" + str(sim.loss(test_input_feed, test_output_feed, objective_cosine)))\n",
    "    sim.save_params('circular_convolution2')\n",
    "    sim.run(0.3)"
   ]
  },
  {
   "cell_type": "code",
   "execution_count": 30,
   "metadata": {
    "collapsed": true
   },
   "outputs": [],
   "source": [
    "output = sim.data[out]"
   ]
  },
  {
   "cell_type": "code",
   "execution_count": 31,
   "metadata": {
    "scrolled": true
   },
   "outputs": [
    {
     "name": "stdout",
     "output_type": "stream",
     "text": [
      "Building completed in 0:00:05 \n",
      "Optimization completed in 0:00:00 \n",
      "Construction completed in 0:00:00 \n",
      "INFO:tensorflow:Restoring parameters from circular_convolution2\n",
      "Simulation completed in 0:00:02\n",
      "2.06548779011\n"
     ]
    }
   ],
   "source": [
    "with nengo_dl.Simulator(model) as sim:\n",
    "    sim.load_params('circular_convolution2')\n",
    "    sim.run(0.3)\n",
    "    print(sim.loss(test_input_feed, test_output_feed, objective_cosine))"
   ]
  },
  {
   "cell_type": "code",
   "execution_count": 33,
   "metadata": {
    "scrolled": true
   },
   "outputs": [
    {
     "data": {
      "image/png": "[encoded data removed]",
      "text/plain": [
       "<matplotlib.figure.Figure at 0x7f478549fdd8>"
      ]
     },
     "metadata": {},
     "output_type": "display_data"
    }
   ],
   "source": [
    "plt.figure()\n",
    "plt.plot(sim.trange(), nengo.spa.similarity(sim.data[out], vocab))\n",
    "plt.legend(vocab.keys, loc=4)\n",
    "plt.xlabel(\"t [s]\")\n",
    "plt.ylabel(\"dot product\");"
   ]
  },
  {
   "cell_type": "code",
   "execution_count": 34,
   "metadata": {},
   "outputs": [
    {
     "data": {
      "image/png": "[encoded data removed]",
      "text/plain": [
       "<matplotlib.figure.Figure at 0x7f476b787860>"
      ]
     },
     "metadata": {},
     "output_type": "display_data"
    }
   ],
   "source": [
    "plt.figure()\n",
    "plt.plot(sim.trange(), nengo.spa.similarity(output[0], vocab))\n",
    "plt.legend(vocab.keys, loc=4)\n",
    "plt.xlabel(\"t [s]\")\n",
    "plt.ylabel(\"dot product\");"
   ]
  }
 ],
 "metadata": {
  "anaconda-cloud": {},
  "kernelspec": {
   "display_name": "Python 3",
   "language": "python",
   "name": "python3"
  },
  "language_info": {
   "codemirror_mode": {
    "name": "ipython",
    "version": 3
   },
   "file_extension": ".py",
   "mimetype": "text/x-python",
   "name": "python",
   "nbconvert_exporter": "python",
   "pygments_lexer": "ipython3",
   "version": "3.4.2"
  },
  "widgets": {
   "state": {
    "00d932db06e044d1b638a625daec4423": {
     "views": [
      {
       "cell_index": 3
      }
     ]
    },
    "300fdc01ffdb46b4acb7c17342aa993c": {
     "views": [
      {
       "cell_index": 3
      }
     ]
    },
    "6190917cf4b04e27a5305c2f5fcfb785": {
     "views": [
      {
       "cell_index": 3
      }
     ]
    },
    "6c5e006bdd4345cfa378792f0d45bc99": {
     "views": [
      {
       "cell_index": 3
      }
     ]
    },
    "9417fe85e05643458c610e0ab2f6e0db": {
     "views": [
      {
       "cell_index": 3
      }
     ]
    },
    "d700fb8b4c024ee682fb36be676a2019": {
     "views": [
      {
       "cell_index": 3
      }
     ]
    }
   },
   "version": "1.2.0"
  }
 },
 "nbformat": 4,
 "nbformat_minor": 1
}
