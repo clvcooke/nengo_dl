{
 "cells": [
  {
   "cell_type": "code",
   "execution_count": 1,
   "metadata": {},
   "outputs": [
    {
     "name": "stderr",
     "output_type": "stream",
     "text": [
      "/home/clvcooke/nengo_deep/lib/python3.4/site-packages/nengo_dl/__init__.py:18: UserWarning: No GPU support detected. It is recommended that you install tensorflow-gpu (`pip install tensorflow-gpu`).\n",
      "  warnings.warn(\"No GPU support detected. It is recommended that you \"\n"
     ]
    },
    {
     "data": {
      "application/javascript": [
       "\n",
       "    define('nengo', [\"jupyter-js-widgets\"], function(widgets) {\n",
       "        \n",
       "      var NengoProgressBar = widgets.DOMWidgetView.extend({\n",
       "        render: function() {\n",
       "          // Work-around for messed up CSS in IPython 4\n",
       "          $('.widget-subarea').css({flex: '2 1 0%'});\n",
       "          // $el is the DOM of the widget\n",
       "          this.$el.css({width: '100%', marginBottom: '0.5em'});\n",
       "          this.$el.html([\n",
       "            '<div style=\"',\n",
       "                'width: 100%;',\n",
       "                'border: 1px solid #cfcfcf;',\n",
       "                'border-radius: 4px;',\n",
       "                'text-align: center;',\n",
       "                'position: relative;\">',\n",
       "              '<div class=\"pb-text\" style=\"',\n",
       "                  'position: absolute;',\n",
       "                  'width: 100%;\">',\n",
       "                '0%',\n",
       "              '</div>',\n",
       "              '<div class=\"pb-bar\" style=\"',\n",
       "                  'background-color: #bdd2e6;',\n",
       "                  'width: 0%;',\n",
       "                  'transition: width 0.1s linear;\">',\n",
       "                '&nbsp;',\n",
       "              '</div>',\n",
       "            '</div>'].join(''));\n",
       "        },\n",
       "\n",
       "        update: function() {\n",
       "          this.$el.css({width: '100%', marginBottom: '0.5em'});\n",
       "          var progress = 100 * this.model.get('progress');\n",
       "          var text = this.model.get('text');\n",
       "          this.$el.find('div.pb-bar').width(progress.toString() + '%');\n",
       "          this.$el.find('div.pb-text').html(text);\n",
       "        },\n",
       "      });\n",
       "    \n",
       "\n",
       "      return {\n",
       "        NengoProgressBar: NengoProgressBar\n",
       "      };\n",
       "    });"
      ],
      "text/plain": [
       "<IPython.core.display.Javascript object>"
      ]
     },
     "metadata": {},
     "output_type": "display_data"
    }
   ],
   "source": [
    "%matplotlib inline\n",
    "\n",
    "import numpy as np\n",
    "import matplotlib.pyplot as plt\n",
    "\n",
    "import nengo\n",
    "import nengo_dl\n",
    "%load_ext nengo.ipynb\n",
    "from nengo.spa import Vocabulary\n",
    "\n",
    "# Change the seed of this RNG to change the vocabulary\n",
    "import random\n",
    "import string\n",
    "import sys\n",
    "from io import StringIO\n",
    "import pickle\n",
    "import tensorflow as tf\n",
    "\n",
    "LOADING = False"
   ]
  },
  {
   "cell_type": "code",
   "execution_count": 2,
   "metadata": {
    "collapsed": true
   },
   "outputs": [],
   "source": [
    "def gen_pointers(amount, vocabulary):\n",
    "    pairs = []\n",
    "    for v in range(amount):\n",
    "        # generate amount pairs\n",
    "        # keys start with A, second element starts with B, third starts with C\n",
    "        conv_key = 'C' + str(v)\n",
    "        point_key_1= 'A' + str(v)\n",
    "        pointer_1 = vocabulary.create_pointer(attempts=500)\n",
    "        point_key_2 = 'B' + str(v)\n",
    "        pointer_2 = vocabulary.create_pointer(attempts=500)\n",
    "        vocabulary.add(point_key_1, pointer_1)\n",
    "        vocabulary.add(point_key_2, pointer_2)\n",
    "        vocabulary.add(conv_key, vocabulary.parse(point_key_2 + \"*\" + point_key_1))"
   ]
  },
  {
   "cell_type": "code",
   "execution_count": 3,
   "metadata": {
    "collapsed": true
   },
   "outputs": [],
   "source": [
    "def repeat_pointer(pointer, steps):\n",
    "    return np.repeat(np.expand_dims(pointer, axis=0), steps, axis=0)\n",
    "\n",
    "def generate_data(dims, seed, amount, steps):\n",
    "    state = np.random.RandomState(seed)\n",
    "    vocabulary = Vocabulary(dimensions=dims, rng=state)\n",
    "    gen_pointers(amount, vocabulary)\n",
    "    A = np.asarray([repeat_pointer(vocabulary['A' + str(i)].v,steps) for i in range(amount)])\n",
    "    B = np.asarray([repeat_pointer(vocabulary['B' + str(i)].v,n_steps) for i in range(amount)])\n",
    "    C = np.asarray([repeat_pointer(vocabulary['C' + str(i)].v,n_steps) for i in range(amount)])\n",
    "    return A, B, C, vocabulary"
   ]
  },
  {
   "cell_type": "code",
   "execution_count": 4,
   "metadata": {},
   "outputs": [
    {
     "name": "stderr",
     "output_type": "stream",
     "text": [
      "/home/clvcooke/nengo_deep/lib/python3.4/site-packages/nengo/spa/vocab.py:114: UserWarning: Could not create a semantic pointer with max_similarity=0.10 (D=50, M=21)\n",
      "  len(self.pointers)))\n",
      "/home/clvcooke/nengo_deep/lib/python3.4/site-packages/nengo/spa/vocab.py:114: UserWarning: Could not create a semantic pointer with max_similarity=0.10 (D=50, M=24)\n",
      "  len(self.pointers)))\n",
      "/home/clvcooke/nengo_deep/lib/python3.4/site-packages/nengo/spa/vocab.py:114: UserWarning: Could not create a semantic pointer with max_similarity=0.10 (D=50, M=27)\n",
      "  len(self.pointers)))\n"
     ]
    }
   ],
   "source": [
    "# Number of dimensions for the Semantic Pointers\n",
    "dimensions = 50\n",
    "n_steps = 300\n",
    "minibatch_size = 10\n",
    "\n",
    "if LOADING:\n",
    "    vocab = pickle.load(open('vocab2.p', 'rb'))\n",
    "else:\n",
    "    test_a, test_b, test_c, vocab = generate_data(dimensions, 0, minibatch_size, n_steps)\n",
    "    pickle.dump(vocab, open('vocab2.p', 'wb'))"
   ]
  },
  {
   "cell_type": "code",
   "execution_count": 5,
   "metadata": {
    "collapsed": true
   },
   "outputs": [],
   "source": [
    "model = nengo.Network()\n",
    "with model:\n",
    "    model.config[nengo.Ensemble].neuron_type = nengo_dl.SoftLIFRate(sigma=0.1, tau_rc=0.022, tau_ref=0.002)\n",
    "    model.config[nengo.Ensemble].gain = nengo.dists.Choice([1])\n",
    "    model.config[nengo.Ensemble].bias = nengo.dists.Uniform(-1, 1)\n",
    "#     model.config[nengo.Connection].synapse = None\n",
    "    # Get the raw vectors for the pointers using `vocab['A'].v`\n",
    "    a = nengo.Node(output=vocab['A0'].v)\n",
    "    b = nengo.Node(output=vocab['B0'].v)\n",
    "\n",
    "    # Make the circular convolution network with 200 neurons\n",
    "    cconv = nengo.networks.CircularConvolution(200, dimensions=dimensions)\n",
    "\n",
    "    # Connect the input nodes to the input slots `A` and `B` on the network\n",
    "    nengo.Connection(a, cconv.input_a)\n",
    "    nengo.Connection(b, cconv.input_b)\n",
    "\n",
    "    # Probe the output\n",
    "    out = nengo.Probe(cconv.output, synapse=0.03)"
   ]
  },
  {
   "cell_type": "code",
   "execution_count": 6,
   "metadata": {
    "scrolled": true
   },
   "outputs": [
    {
     "name": "stderr",
     "output_type": "stream",
     "text": [
      "Widget Javascript not detected.  It may not be installed or enabled properly.\n"
     ]
    },
    {
     "data": {
      "application/vnd.jupyter.widget-view+json": {
       "model_id": "6ae3df4b7987471991901b671658aa3a"
      }
     },
     "metadata": {},
     "output_type": "display_data"
    },
    {
     "name": "stderr",
     "output_type": "stream",
     "text": [
      "Widget Javascript not detected.  It may not be installed or enabled properly.\n"
     ]
    },
    {
     "data": {
      "application/vnd.jupyter.widget-view+json": {
       "model_id": "1fcfe65c74c9460e90bf0941f146e27b"
      }
     },
     "metadata": {},
     "output_type": "display_data"
    }
   ],
   "source": [
    "with nengo.Simulator(model) as sim:\n",
    "    sim.run(0.3)"
   ]
  },
  {
   "cell_type": "code",
   "execution_count": 7,
   "metadata": {
    "scrolled": true
   },
   "outputs": [
    {
     "data": {
      "image/png": "[encoded data removed]",
      "text/plain": [
       "<matplotlib.figure.Figure at 0x7fef754eec18>"
      ]
     },
     "metadata": {},
     "output_type": "display_data"
    }
   ],
   "source": [
    "plt.figure()\n",
    "plt.plot(sim.trange(), nengo.spa.similarity(sim.data[out], vocab))\n",
    "plt.legend(vocab.keys, loc=4)\n",
    "plt.xlabel(\"t [s]\")\n",
    "plt.ylabel(\"dot product\");"
   ]
  },
  {
   "cell_type": "code",
   "execution_count": 8,
   "metadata": {},
   "outputs": [
    {
     "data": {
      "text/plain": [
       "8972"
      ]
     },
     "execution_count": 8,
     "metadata": {},
     "output_type": "execute_result"
    }
   ],
   "source": [
    "np.argmax(nengo.spa.similarity(sim.data[out], vocab))"
   ]
  },
  {
   "cell_type": "code",
   "execution_count": 9,
   "metadata": {},
   "outputs": [
    {
     "name": "stdout",
     "output_type": "stream",
     "text": [
      "Building completed in 0:00:08 \n",
      "Optimization completed in 0:00:00 \n",
      "Construction completed in 0:00:01 \n",
      "LOSS: 0.470183342695\n",
      "ROUND: 0\n"
     ]
    },
    {
     "name": "stderr",
     "output_type": "stream",
     "text": [
      "/home/clvcooke/nengo_deep/lib/python3.4/site-packages/nengo/spa/vocab.py:114: UserWarning: Could not create a semantic pointer with max_similarity=0.10 (D=50, M=21)\n",
      "  len(self.pointers)))\n",
      "/home/clvcooke/nengo_deep/lib/python3.4/site-packages/nengo/spa/vocab.py:114: UserWarning: Could not create a semantic pointer with max_similarity=0.10 (D=50, M=24)\n",
      "  len(self.pointers)))\n",
      "/home/clvcooke/nengo_deep/lib/python3.4/site-packages/nengo/spa/vocab.py:114: UserWarning: Could not create a semantic pointer with max_similarity=0.10 (D=50, M=27)\n",
      "  len(self.pointers)))\n"
     ]
    },
    {
     "name": "stdout",
     "output_type": "stream",
     "text": [
      "[##############################] ETA: 0:00:00 (Training)\n",
      "Training completed in 0:00:34\n",
      "LOSS: 0.458559721708\n",
      "ROUND: 1\n",
      "[##############################] ETA: 0:00:00 (Training)\n",
      "Training completed in 0:00:34\n",
      "LOSS: 0.455297619104\n",
      "ROUND: 2\n",
      "[##############################] ETA: 0:00:00 (Training)\n",
      "Training completed in 0:00:34\n",
      "LOSS: 0.446692436934\n",
      "ROUND: 3\n",
      "[##############################] ETA: 0:00:00 (Training)\n",
      "Training completed in 0:00:35\n",
      "LOSS: 0.435605227947\n",
      "ROUND: 4\n",
      "[                              ] ETA: unknown"
     ]
    },
    {
     "name": "stderr",
     "output_type": "stream",
     "text": [
      "/home/clvcooke/nengo_deep/lib/python3.4/site-packages/nengo/spa/vocab.py:114: UserWarning: Could not create a semantic pointer with max_similarity=0.10 (D=50, M=18)\n",
      "  len(self.pointers)))\n"
     ]
    },
    {
     "name": "stdout",
     "output_type": "stream",
     "text": [
      "[##############################] ETA: 0:00:00 (Training)\n",
      "Training completed in 0:00:35\n",
      "LOSS: 0.431933254004\n",
      "ROUND: 5\n",
      "[##############################] ETA: 0:00:00 (Training)\n",
      "Training completed in 0:00:34\n",
      "LOSS: 0.429496586323\n",
      "ROUND: 6\n",
      "[##############################] ETA: 0:00:00 (Training)\n",
      "Training completed in 0:00:34\n",
      "LOSS: 0.423990637064\n",
      "ROUND: 7\n",
      "[##############################] ETA: 0:00:00 (Training)\n",
      "Training completed in 0:00:34\n",
      "LOSS: 0.42335742712\n",
      "ROUND: 8\n",
      "[##############################] ETA: 0:00:00 (Training)\n",
      "Training completed in 0:00:34\n",
      "LOSS: 0.410155922174\n",
      "ROUND: 9\n",
      "[##############################] ETA: 0:00:00 (Training)\n",
      "Training completed in 0:00:35\n",
      "LOSS: 0.402386218309\n",
      "ROUND: 10\n",
      "[##############################] ETA: 0:00:00 (Training)\n",
      "Training completed in 0:00:34\n",
      "LOSS: 0.397487312555\n",
      "ROUND: 11\n",
      "[                              ] ETA: unknown"
     ]
    },
    {
     "name": "stderr",
     "output_type": "stream",
     "text": [
      "/home/clvcooke/nengo_deep/lib/python3.4/site-packages/nengo/spa/vocab.py:114: UserWarning: Could not create a semantic pointer with max_similarity=0.10 (D=50, M=15)\n",
      "  len(self.pointers)))\n"
     ]
    },
    {
     "name": "stdout",
     "output_type": "stream",
     "text": [
      "[##############################] ETA: 0:00:00 (Training)\n",
      "Training completed in 0:00:34\n",
      "LOSS: 0.396507531404\n",
      "ROUND: 12\n",
      "[##############################] ETA: 0:00:00 (Training)\n",
      "Training completed in 0:00:34\n",
      "LOSS: 0.381112784147\n",
      "ROUND: 13\n",
      "[##############################] ETA: 0:00:00 (Training)\n",
      "Training completed in 0:00:34\n",
      "LOSS: 0.379009187222\n",
      "ROUND: 14\n",
      "[##############################] ETA: 0:00:00 (Training)\n",
      "Training completed in 0:00:34\n",
      "LOSS: 0.367279142141\n",
      "ROUND: 15\n",
      "[##############################] ETA: 0:00:00 (Training)\n",
      "Training completed in 0:00:34\n",
      "LOSS: 0.353127658367\n",
      "ROUND: 16\n",
      "[##############################] ETA: 0:00:00 (Training)\n",
      "Training completed in 0:00:34\n",
      "LOSS: 0.34152469039\n",
      "ROUND: 17\n",
      "[##############################] ETA: 0:00:00 (Training)\n",
      "Training completed in 0:00:34\n",
      "LOSS: 0.334116458893\n",
      "ROUND: 18\n",
      "[##############################] ETA: 0:00:00 (Training)\n",
      "Training completed in 0:00:34\n",
      "LOSS: 0.327604055405\n",
      "ROUND: 19\n",
      "[##############################] ETA: 0:00:00 (Training)\n",
      "Training completed in 0:00:34\n",
      "LOSS: 0.315095126629\n",
      "ROUND: 20\n",
      "[##############################] ETA: 0:00:00 (Training)\n",
      "Training completed in 0:00:34\n",
      "LOSS: 0.308424979448\n",
      "ROUND: 21\n",
      "[##############################] ETA: 0:00:00 (Training)\n",
      "Training completed in 0:00:34\n",
      "LOSS: 0.284961998463\n",
      "ROUND: 22\n",
      "[##############################] ETA: 0:00:00 (Training)\n",
      "Training completed in 0:00:34\n",
      "LOSS: 0.2710544765\n",
      "ROUND: 23\n",
      "[##############################] ETA: 0:00:00 (Training)\n",
      "Training completed in 0:00:35\n",
      "LOSS: 0.251544594765\n",
      "ROUND: 24\n",
      "[##############################] ETA: 0:00:00 (Training)\n",
      "Training completed in 0:00:34\n",
      "LOSS: 0.241721540689\n",
      "ROUND: 25\n",
      "[##############################] ETA: 0:00:00 (Training)\n",
      "Training completed in 0:00:34\n",
      "LOSS: 0.237243279815\n",
      "ROUND: 26\n",
      "[##############################] ETA: 0:00:00 (Training)\n",
      "Training completed in 0:00:34\n",
      "LOSS: 0.225558519363\n",
      "ROUND: 27\n",
      "[##############################] ETA: 0:00:00 (Training)\n",
      "Training completed in 0:00:34\n",
      "LOSS: 0.21195371449\n",
      "ROUND: 28\n",
      "[##############################] ETA: 0:00:00 (Training)\n",
      "Training completed in 0:00:34\n",
      "LOSS: 0.20251069963\n",
      "ROUND: 29\n",
      "[##############################] ETA: 0:00:00 (Training)\n",
      "Training completed in 0:00:34\n",
      "LOSS: 0.183661565185\n",
      "ROUND: 30\n",
      "[##############################] ETA: 0:00:00 (Training)\n",
      "Training completed in 0:00:34\n",
      "LOSS: 0.182253912091\n",
      "ROUND: 31\n",
      "[##############################] ETA: 0:00:00 (Training)\n",
      "Training completed in 0:00:34\n",
      "LOSS: 0.167421370745\n",
      "ROUND: 32\n",
      "[##############################] ETA: 0:00:00 (Training)\n",
      "Training completed in 0:00:34\n",
      "LOSS: 0.153547793627\n",
      "ROUND: 33\n",
      "[##############################] ETA: 0:00:00 (Training)\n",
      "Training completed in 0:00:35\n",
      "LOSS: 0.143851101398\n",
      "ROUND: 34\n",
      "[##############################] ETA: 0:00:00 (Training)\n",
      "Training completed in 0:00:34\n",
      "LOSS: 0.121267437935\n",
      "ROUND: 35\n",
      "[##############################] ETA: 0:00:00 (Training)\n",
      "Training completed in 0:00:34\n",
      "LOSS: 0.149533733726\n",
      "ROUND: 36\n",
      "[##############################] ETA: 0:00:00 (Training)\n",
      "Training completed in 0:00:34\n",
      "LOSS: 0.159948915243\n",
      "ROUND: 37\n",
      "[##############################] ETA: 0:00:00 (Training)\n",
      "Training completed in 0:00:34\n",
      "LOSS: 0.15189512074\n",
      "ROUND: 38\n",
      "[##############################] ETA: 0:00:00 (Training)\n",
      "Training completed in 0:00:34\n",
      "LOSS: 0.162065818906\n",
      "ROUND: 39\n",
      "[##############################] ETA: 0:00:00 (Training)\n",
      "Training completed in 0:00:34\n",
      "LOSS: 0.150994211435\n",
      "ROUND: 40\n",
      "[##############################] ETA: 0:00:00 (Training)\n",
      "Training completed in 0:00:34\n",
      "LOSS: 0.142968714237\n",
      "ROUND: 41\n",
      "[##############################] ETA: 0:00:00 (Training)\n",
      "Training completed in 0:00:34\n",
      "LOSS: 0.127162396908\n",
      "ROUND: 42\n",
      "[##############################] ETA: 0:00:00 (Training)\n",
      "Training completed in 0:00:34\n",
      "LOSS: 0.13688403368\n",
      "ROUND: 43\n",
      "[##############################] ETA: 0:00:00 (Training)\n",
      "Training completed in 0:00:34\n",
      "LOSS: 0.117808803916\n",
      "ROUND: 44\n",
      "[##############################] ETA: 0:00:00 (Training)\n",
      "Training completed in 0:00:34\n",
      "LOSS: 0.129657298326\n",
      "ROUND: 45\n",
      "[##############################] ETA: 0:00:00 (Training)\n",
      "Training completed in 0:00:34\n",
      "LOSS: 0.115464091301\n",
      "ROUND: 46\n",
      "[##############################] ETA: 0:00:00 (Training)\n",
      "Training completed in 0:00:34\n",
      "LOSS: 0.0990294590592\n",
      "ROUND: 47\n",
      "[##############################] ETA: 0:00:00 (Training)\n",
      "Training completed in 0:00:34\n",
      "LOSS: 0.0825933814049\n",
      "ROUND: 48\n",
      "[##############################] ETA: 0:00:00 (Training)\n",
      "Training completed in 0:00:34\n",
      "LOSS: 0.098748780787\n",
      "ROUND: 49\n",
      "[##############################] ETA: 0:00:00 (Training)\n",
      "Training completed in 0:00:34\n",
      "LOSS: 0.109679199755\n",
      "ROUND: 50\n",
      "[##############################] ETA: 0:00:00 (Training)\n",
      "Training completed in 0:00:34\n",
      "LOSS: 0.120380677283\n",
      "ROUND: 51\n",
      "[##############################] ETA: 0:00:00 (Training)\n",
      "Training completed in 0:00:34\n",
      "LOSS: 0.103262856603\n",
      "ROUND: 52\n",
      "[##############################] ETA: 0:00:00 (Training)\n",
      "Training completed in 0:00:34\n",
      "LOSS: 0.0986146256328\n",
      "ROUND: 53\n",
      "[##############################] ETA: 0:00:00 (Training)\n",
      "Training completed in 0:00:34\n",
      "LOSS: 0.0944415703416\n",
      "ROUND: 54\n",
      "[##############################] ETA: 0:00:00 (Training)\n",
      "Training completed in 0:00:35\n",
      "LOSS: 0.0998682379723\n",
      "ROUND: 55\n",
      "[##############################] ETA: 0:00:00 (Training)\n",
      "Training completed in 0:00:34\n",
      "LOSS: 0.0786826983094\n",
      "ROUND: 56\n",
      "[##############################] ETA: 0:00:00 (Training)\n",
      "Training completed in 0:00:34\n",
      "LOSS: 0.0962363481522\n",
      "ROUND: 57\n",
      "[##############################] ETA: 0:00:00 (Training)\n",
      "Training completed in 0:00:34\n",
      "LOSS: 0.103692889214\n",
      "ROUND: 58\n",
      "[##############################] ETA: 0:00:00 (Training)\n",
      "Training completed in 0:00:34\n",
      "LOSS: 0.123415201902\n",
      "ROUND: 59\n",
      "[##############################] ETA: 0:00:00 (Training)\n",
      "Training completed in 0:00:35\n",
      "LOSS: 0.106775686145\n",
      "ROUND: 60\n",
      "[##############################] ETA: 0:00:00 (Training)\n",
      "Training completed in 0:00:34\n",
      "LOSS: 0.0816020742059\n",
      "ROUND: 61\n",
      "[##############################] ETA: 0:00:00 (Training)\n",
      "Training completed in 0:00:34\n",
      "LOSS: 0.0644665956497\n",
      "ROUND: 62\n",
      "[##############################] ETA: 0:00:00 (Training)\n",
      "Training completed in 0:00:34\n",
      "LOSS: 0.0540773309767\n",
      "ROUND: 63\n",
      "[##############################] ETA: 0:00:00 (Training)\n",
      "Training completed in 0:00:34\n",
      "LOSS: 0.0342336520553\n",
      "ROUND: 64\n",
      "[##############################] ETA: 0:00:00 (Training)\n",
      "Training completed in 0:00:35\n",
      "LOSS: 0.0493812039495\n",
      "ROUND: 65\n",
      "[##############################] ETA: 0:00:00 (Training)\n",
      "Training completed in 0:00:34\n",
      "LOSS: 0.05024247244\n",
      "ROUND: 66\n",
      "[##############################] ETA: 0:00:00 (Training)\n",
      "Training completed in 0:00:34\n",
      "LOSS: 0.068126372993\n",
      "ROUND: 67\n",
      "[##############################] ETA: 0:00:00 (Training)\n",
      "Training completed in 0:00:35\n",
      "LOSS: 0.0881669074297\n",
      "ROUND: 68\n",
      "[##############################] ETA: 0:00:00 (Training)\n",
      "Training completed in 0:00:34\n",
      "LOSS: 0.104604959488\n",
      "ROUND: 69\n",
      "[##############################] ETA: 0:00:00 (Training)\n",
      "Training completed in 0:00:34\n",
      "LOSS: 0.0877811685205\n",
      "ROUND: 70\n",
      "[##############################] ETA: 0:00:00 (Training)\n",
      "Training completed in 0:00:34\n",
      "LOSS: 0.0795086473227\n",
      "ROUND: 71\n",
      "[##############################] ETA: 0:00:00 (Training)\n",
      "Training completed in 0:00:34\n",
      "LOSS: 0.0975952893496\n",
      "ROUND: 72\n",
      "[##############################] ETA: 0:00:00 (Training)\n",
      "Training completed in 0:00:34\n",
      "LOSS: 0.0769442617893\n",
      "ROUND: 73\n",
      "[##############################] ETA: 0:00:00 (Training)\n",
      "Training completed in 0:00:34\n",
      "LOSS: 0.081888012588\n",
      "ROUND: 74\n",
      "[##############################] ETA: 0:00:00 (Training)\n",
      "Training completed in 0:00:34\n",
      "LOSS: 0.0981342494488\n",
      "ROUND: 75\n",
      "[##############################] ETA: 0:00:00 (Training)\n",
      "Training completed in 0:00:34\n",
      "LOSS: 0.0869889110327\n",
      "ROUND: 76\n",
      "[##############################] ETA: 0:00:00 (Training)\n",
      "Training completed in 0:00:34\n",
      "LOSS: 0.101227760315\n",
      "ROUND: 77\n",
      "[##############################] ETA: 0:00:00 (Training)\n",
      "Training completed in 0:00:34\n",
      "LOSS: 0.113373979926\n",
      "ROUND: 78\n",
      "[##############################] ETA: 0:00:00 (Training)\n",
      "Training completed in 0:00:34\n",
      "LOSS: 0.127981364727\n",
      "ROUND: 79\n",
      "[##############################] ETA: 0:00:00 (Training)\n",
      "Training completed in 0:00:34\n",
      "LOSS: 0.121342070401\n",
      "ROUND: 80\n"
     ]
    },
    {
     "name": "stdout",
     "output_type": "stream",
     "text": [
      "[##############################] ETA: 0:00:00 (Training)\n",
      "Training completed in 0:00:34\n",
      "LOSS: 0.110737733543\n",
      "ROUND: 81\n",
      "[##############################] ETA: 0:00:00 (Training)\n",
      "Training completed in 0:00:34\n",
      "LOSS: 0.1289280653\n",
      "ROUND: 82\n",
      "[##############################] ETA: 0:00:00 (Training)\n",
      "Training completed in 0:00:34\n",
      "LOSS: 0.116596974432\n",
      "ROUND: 83\n",
      "[##############################] ETA: 0:00:00 (Training)\n",
      "Training completed in 0:00:34\n",
      "LOSS: 0.0979915186763\n",
      "ROUND: 84\n",
      "[##############################] ETA: 0:00:00 (Training)\n",
      "Training completed in 0:00:34\n",
      "LOSS: 0.0787083506584\n",
      "ROUND: 85\n",
      "[##############################] ETA: 0:00:00 (Training)\n",
      "Training completed in 0:00:34\n",
      "LOSS: 0.0884122103453\n",
      "ROUND: 86\n",
      "[##############################] ETA: 0:00:00 (Training)\n",
      "Training completed in 0:00:34\n",
      "LOSS: 0.0650882348418\n",
      "ROUND: 87\n",
      "[##############################] ETA: 0:00:00 (Training)\n",
      "Training completed in 0:00:34\n",
      "LOSS: 0.0478782057762\n",
      "ROUND: 88\n",
      "[##############################] ETA: 0:00:00 (Training)\n",
      "Training completed in 0:00:34\n",
      "LOSS: 0.0486030168831\n",
      "ROUND: 89\n",
      "[##############################] ETA: 0:00:00 (Training)\n",
      "Training completed in 0:00:34\n",
      "LOSS: 0.0624309889972\n",
      "ROUND: 90\n",
      "[##############################] ETA: 0:00:00 (Training)\n",
      "Training completed in 0:00:34\n",
      "LOSS: 0.084696829319\n",
      "ROUND: 91\n",
      "[##############################] ETA: 0:00:00 (Training)\n",
      "Training completed in 0:00:34\n",
      "LOSS: 0.0754007995129\n",
      "ROUND: 92\n",
      "[##############################] ETA: 0:00:00 (Training)\n",
      "Training completed in 0:00:34\n",
      "LOSS: 0.0976015254855\n",
      "ROUND: 93\n",
      "[##############################] ETA: 0:00:00 (Training)\n",
      "Training completed in 0:00:34\n",
      "LOSS: 0.0965054184198\n",
      "ROUND: 94\n",
      "[##############################] ETA: 0:00:00 (Training)\n",
      "Training completed in 0:00:35\n",
      "LOSS: 0.10114069283\n",
      "ROUND: 95\n",
      "[##############################] ETA: 0:00:00 (Training)\n",
      "Training completed in 0:00:34\n",
      "LOSS: 0.0860838741064\n",
      "ROUND: 96\n",
      "[##############################] ETA: 0:00:00 (Training)\n",
      "Training completed in 0:00:34\n",
      "LOSS: 0.0965079963207\n",
      "ROUND: 97\n",
      "[##############################] ETA: 0:00:00 (Training)\n",
      "Training completed in 0:00:34\n",
      "LOSS: 0.11153960973\n",
      "ROUND: 98\n",
      "[##############################] ETA: 0:00:00 (Training)\n",
      "Training completed in 0:00:34\n",
      "LOSS: 0.122463643551\n",
      "ROUND: 99\n",
      "[##############################] ETA: 0:00:00 (Training)\n",
      "Training completed in 0:00:34\n",
      "LOSS: 0.087406411767\n",
      "Simulation completed in 0:00:08\n"
     ]
    }
   ],
   "source": [
    "def objective_cosine(outputs, targets):\n",
    "    return tf.abs(tf.losses.cosine_distance(targets, outputs, dim=2))\n",
    "    \n",
    "with nengo_dl.Simulator(model, step_blocks=n_steps, minibatch_size=minibatch_size, device=\"/cpu:0\") as sim:\n",
    "    test_input_feed = {a:test_a,\n",
    "                       b:test_b}\n",
    "    test_output_feed = {out: test_c}    \n",
    "    optimizer = tf.train.RMSPropOptimizer(2e-3, decay=0.9, momentum=0.0, epsilon=1e-10, use_locking=False, centered=False, name='RMSProp')\n",
    "    print(\"LOSS: \" + str(sim.loss(test_input_feed, test_output_feed, objective_cosine)))\n",
    "    for e in range(100):\n",
    "        print(\"ROUND: \" + str(e))\n",
    "        train_a, train_b, train_c, _ = generate_data(dimensions, e+1, minibatch_size, n_steps)\n",
    "        input_feed = {a:train_a, \n",
    "                      b: train_b}\n",
    "        output_feed = {out: train_c}\n",
    "        sim.train(input_feed, output_feed, optimizer, n_epochs=1, objective=objective_cosine)\n",
    "        print(\"LOSS: \" + str(sim.loss(test_input_feed, test_output_feed, objective_cosine)))\n",
    "    sim.save_params('circular_convolution-softlif')\n",
    "    sim.run(0.3)"
   ]
  },
  {
   "cell_type": "code",
   "execution_count": 10,
   "metadata": {
    "collapsed": true
   },
   "outputs": [],
   "source": [
    "output = sim.data[out]"
   ]
  },
  {
   "cell_type": "code",
   "execution_count": 13,
   "metadata": {},
   "outputs": [
    {
     "data": {
      "image/png": "[encoded data removed]",
      "text/plain": [
       "<matplotlib.figure.Figure at 0x7fed9e566908>"
      ]
     },
     "metadata": {},
     "output_type": "display_data"
    }
   ],
   "source": [
    "plt.figure()\n",
    "plt.plot(sim.trange(), nengo.spa.similarity(output[0], vocab))\n",
    "plt.legend(vocab.keys, loc=4)\n",
    "plt.xlabel(\"t [s]\")\n",
    "plt.ylabel(\"dot product\");"
   ]
  }
 ],
 "metadata": {
  "anaconda-cloud": {},
  "kernelspec": {
   "display_name": "Python 3",
   "language": "python",
   "name": "python3"
  },
  "language_info": {
   "codemirror_mode": {
    "name": "ipython",
    "version": 3
   },
   "file_extension": ".py",
   "mimetype": "text/x-python",
   "name": "python",
   "nbconvert_exporter": "python",
   "pygments_lexer": "ipython3",
   "version": "3.4.2"
  },
  "widgets": {
   "state": {
    "00d932db06e044d1b638a625daec4423": {
     "views": [
      {
       "cell_index": 3
      }
     ]
    },
    "300fdc01ffdb46b4acb7c17342aa993c": {
     "views": [
      {
       "cell_index": 3
      }
     ]
    },
    "6190917cf4b04e27a5305c2f5fcfb785": {
     "views": [
      {
       "cell_index": 3
      }
     ]
    },
    "6c5e006bdd4345cfa378792f0d45bc99": {
     "views": [
      {
       "cell_index": 3
      }
     ]
    },
    "9417fe85e05643458c610e0ab2f6e0db": {
     "views": [
      {
       "cell_index": 3
      }
     ]
    },
    "d700fb8b4c024ee682fb36be676a2019": {
     "views": [
      {
       "cell_index": 3
      }
     ]
    }
   },
   "version": "1.2.0"
  }
 },
 "nbformat": 4,
 "nbformat_minor": 1
}
