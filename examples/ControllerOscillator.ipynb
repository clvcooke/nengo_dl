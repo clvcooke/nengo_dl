{
 "cells": [
  {
   "cell_type": "code",
   "execution_count": 1,
   "metadata": {
    "collapsed": true
   },
   "outputs": [],
   "source": [
    "%matplotlib inline\n",
    "\n",
    "import nengo\n",
    "import tensorflow as tf\n",
    "import nengo_dl\n",
    "import numpy as np\n",
    "import matplotlib.pyplot as plt\n",
    "from nengo.utils.functions import piecewise\n",
    "from math import sin\n",
    "import random"
   ]
  },
  {
   "cell_type": "code",
   "execution_count": 2,
   "metadata": {
    "collapsed": false
   },
   "outputs": [],
   "source": [
    "with nengo.Network() as net:\n",
    "    net.config[nengo.Ensemble].neuron_type = nengo.RectifiedLinear()\n",
    "    net.config[nengo.Ensemble].gain = nengo.dists.Choice([1])\n",
    "    net.config[nengo.Ensemble].bias = nengo.dists.Uniform(-1, 1)\n",
    "    net.config[nengo.Connection].synapse = None\n",
    "      \n",
    "    c_sig = nengo.Node(\n",
    "        piecewise({\n",
    "            0: 1,\n",
    "            1: 0.5,\n",
    "            2: 0,\n",
    "            3: -0.5,\n",
    "            4: -1\n",
    "        }))\n",
    "    \n",
    "    \n",
    "    osc_1 = nengo.Ensemble(200, dimensions=1)\n",
    "    osc_2 = nengo.Ensemble(300, dimensions=1)\n",
    "    osc_3 = nengo.Ensemble(200, dimensions=1)\n",
    "    \n",
    "    # connecting the control signal to the oscillator\n",
    "    nengo.Connection(c_sig, osc_1)\n",
    "    nengo.Connection(osc_1, osc_2)\n",
    "    nengo.Connection(osc_2, osc_3)\n",
    "    \n",
    "    signal_probe = nengo.Probe(c_sig)\n",
    "    output_probe = nengo.Probe(osc_3)"
   ]
  },
  {
   "cell_type": "code",
   "execution_count": 3,
   "metadata": {
    "collapsed": true
   },
   "outputs": [],
   "source": [
    "w_max = 10"
   ]
  },
  {
   "cell_type": "code",
   "execution_count": 4,
   "metadata": {
    "collapsed": false
   },
   "outputs": [
    {
     "name": "stdout",
     "output_type": "stream",
     "text": [
      "Building finished in 0:00:01.                                                                                         \n",
      "Simulating finished in 0:00:01.                                                                                       \n"
     ]
    },
    {
     "data": {
      "image/png": "[encoded data removed]",
      "text/plain": [
       "<matplotlib.figure.Figure at 0x180ffb1df98>"
      ]
     },
     "metadata": {},
     "output_type": "display_data"
    }
   ],
   "source": [
    "with nengo.Simulator(net) as sim:\n",
    "    sim.run(5)\n",
    "#     plt.plot(sim.data[osc_probe][:, 0], label='input')\n",
    "    plt.plot(sim.data[output_probe], label='output')\n",
    "#     plt.plot(sim.data[osc_probe][:, 2], label='feedback')\n",
    "    plt.plot(sim.data[signal_probe], label='signal')\n",
    "    plt.legend()"
   ]
  },
  {
   "cell_type": "code",
   "execution_count": 5,
   "metadata": {
    "collapsed": true
   },
   "outputs": [],
   "source": [
    "n_steps = 5000\n",
    "n_inputs = 1\n",
    "minibatch_size = 10"
   ]
  },
  {
   "cell_type": "code",
   "execution_count": 6,
   "metadata": {
    "collapsed": false
   },
   "outputs": [],
   "source": [
    "f = piecewise({\n",
    "            0: 1,\n",
    "            1: 0.5,\n",
    "            2: 0,\n",
    "            3: -0.5,\n",
    "            4: -1\n",
    "        })"
   ]
  },
  {
   "cell_type": "code",
   "execution_count": 7,
   "metadata": {
    "collapsed": false
   },
   "outputs": [
    {
     "name": "stdout",
     "output_type": "stream",
     "text": [
      "(5000,)\n"
     ]
    }
   ],
   "source": [
    "input_function = piecewise({\n",
    "            0: 1,\n",
    "            1: 0.5,\n",
    "            2: 0,\n",
    "            3: -0.5,\n",
    "            4: -1\n",
    "        })\n",
    "input_feed = np.array([input_function(x) for x in np.arange(0, 5, 0.001)])\n",
    "print(input_feed.shape)"
   ]
  },
  {
   "cell_type": "code",
   "execution_count": 8,
   "metadata": {
    "collapsed": true
   },
   "outputs": [],
   "source": [
    "def test_osc(w, phase, step_size=0.001):\n",
    "    return sin(w*step_size + phase), w*step_size + phase\n",
    "\n",
    "def gen_test_data(batches, length, w_lower, w_upper):\n",
    "    w_width = w_upper - w_lower\n",
    "    input_data = np.zeros((batches, length*1000))\n",
    "    output_data = np.zeros((batches, length*1000))\n",
    "    for i in range(0, batches):\n",
    "        data_dict = {}\n",
    "        for k in range(0, length):\n",
    "            data_dict[k] = random.random()*w_width + w_lower\n",
    "        p_func = piecewise(data_dict)\n",
    "        batch_in_data = np.array([p_func(x) for x in np.arange(0, length, 0.001)])\n",
    "        batch_out_data = []\n",
    "        phi = 0\n",
    "        for w in batch_in_data:\n",
    "            value, phi = test_osc(w, phi)\n",
    "            batch_out_data.append(value)\n",
    "        batch_out_data = np.array(batch_out_data)\n",
    "        output_data[i] = batch_out_data\n",
    "        input_data[i] = batch_in_data\n",
    "    return np.reshape(input_data, (batches, length*1000, 1)), np.reshape(output_data, (batches, length*1000, 1))"
   ]
  },
  {
   "cell_type": "code",
   "execution_count": 9,
   "metadata": {
    "collapsed": false
   },
   "outputs": [
    {
     "name": "stdout",
     "output_type": "stream",
     "text": [
      "Building completed in 0:00:00 \n",
      "Optimization completed in 0:00:00 \n",
      "Construction completed in 0:00:00 \n",
      "Simulation completed in 0:00:04\n",
      "[##############################] ETA: 0:00:00 (Training)\n",
      "Training completed in 0:00:13\n",
      "Simulation completed in 0:00:04\n",
      "[##############################] ETA: 0:00:00 (Training)\n",
      "Training completed in 0:00:13\n",
      "Simulation completed in 0:00:04\n",
      "[##############################] ETA: 0:00:00 (Training)\n",
      "Training completed in 0:00:13\n",
      "Simulation completed in 0:00:04\n"
     ]
    }
   ],
   "source": [
    "with nengo_dl.Simulator(net, step_blocks=n_steps, minibatch_size=minibatch_size) as sim:\n",
    "    test_in_feed, test_out_feed = gen_test_data(minibatch_size, int(n_steps/1000), -5, 5)\n",
    "    input_feed, output_feed = gen_test_data(minibatch_size, int(n_steps/1000), -5, 5)\n",
    "    \n",
    "    sim.run_steps(n_steps, input_feeds={c_sig:test_in_feed})\n",
    "    outputs = []\n",
    "    outputs.append(sim.data[output_probe][0].flatten())\n",
    "    for i in range(0, 3):\n",
    "        sim.train({c_sig: input_feed},\n",
    "                 {output_probe:output_feed},\n",
    "                 tf.train.MomentumOptimizer(5e-3, 0.9), n_epochs=1)\n",
    "        sim.soft_reset(include_probes=True)\n",
    "        sim.run_steps(n_steps, input_feeds={c_sig:test_in_feed})\n",
    "        outputs.append(sim.data[output_probe][0].flatten())"
   ]
  },
  {
   "cell_type": "code",
   "execution_count": 11,
   "metadata": {
    "collapsed": false
   },
   "outputs": [
    {
     "data": {
      "text/plain": [
       "<matplotlib.legend.Legend at 0x1809073b5c0>"
      ]
     },
     "execution_count": 11,
     "metadata": {},
     "output_type": "execute_result"
    },
    {
     "data": {
      "image/png": "[encoded data removed]",
      "text/plain": [
       "<matplotlib.figure.Figure at 0x18081697fd0>"
      ]
     },
     "metadata": {},
     "output_type": "display_data"
    }
   ],
   "source": [
    "    plt.figure(num=None, figsize=(12,8),facecolor='w', edgecolor='k')\n",
    "    plt.plot(outputs[0],  label='pre training')    \n",
    "    plt.plot(outputs[1],  label='epoch 1')\n",
    "    plt.plot(outputs[2],  label='epoch 2')\n",
    "    plt.plot(outputs[3],  label='epoch 3')\n",
    "\n",
    "    plt.plot(test_out_feed[0].flatten(), label='ideal output')\n",
    "    plt.legend()\n",
    "    "
   ]
  }
 ],
 "metadata": {
  "anaconda-cloud": {},
  "kernelspec": {
   "display_name": "Python [conda root]",
   "language": "python",
   "name": "conda-root-py"
  },
  "language_info": {
   "codemirror_mode": {
    "name": "ipython",
    "version": 3
   },
   "file_extension": ".py",
   "mimetype": "text/x-python",
   "name": "python",
   "nbconvert_exporter": "python",
   "pygments_lexer": "ipython3",
   "version": "3.5.2"
  }
 },
 "nbformat": 4,
 "nbformat_minor": 1
}
